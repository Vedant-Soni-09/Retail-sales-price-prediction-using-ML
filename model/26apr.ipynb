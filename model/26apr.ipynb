{
 "cells": [
  {
   "cell_type": "code",
   "execution_count": 1,
   "metadata": {},
   "outputs": [],
   "source": [
    "import numpy as np \n",
    "import matplotlib.pyplot as plt\n",
    "import pandas as pd \n",
    "plt.style.use(\"ggplot\")"
   ]
  },
  {
   "cell_type": "code",
   "execution_count": 2,
   "metadata": {},
   "outputs": [
    {
     "data": {
      "text/html": [
       "<div>\n",
       "<style scoped>\n",
       "    .dataframe tbody tr th:only-of-type {\n",
       "        vertical-align: middle;\n",
       "    }\n",
       "\n",
       "    .dataframe tbody tr th {\n",
       "        vertical-align: top;\n",
       "    }\n",
       "\n",
       "    .dataframe thead th {\n",
       "        text-align: right;\n",
       "    }\n",
       "</style>\n",
       "<table border=\"1\" class=\"dataframe\">\n",
       "  <thead>\n",
       "    <tr style=\"text-align: right;\">\n",
       "      <th></th>\n",
       "      <th>Channel</th>\n",
       "      <th>Region</th>\n",
       "      <th>Fresh</th>\n",
       "      <th>Milk</th>\n",
       "      <th>Grocery</th>\n",
       "      <th>Frozen</th>\n",
       "      <th>Detergents_Paper</th>\n",
       "      <th>Delicassen</th>\n",
       "    </tr>\n",
       "  </thead>\n",
       "  <tbody>\n",
       "    <tr>\n",
       "      <th>0</th>\n",
       "      <td>2</td>\n",
       "      <td>3</td>\n",
       "      <td>12669</td>\n",
       "      <td>9656</td>\n",
       "      <td>7561</td>\n",
       "      <td>214</td>\n",
       "      <td>2674</td>\n",
       "      <td>1338</td>\n",
       "    </tr>\n",
       "    <tr>\n",
       "      <th>1</th>\n",
       "      <td>2</td>\n",
       "      <td>3</td>\n",
       "      <td>7057</td>\n",
       "      <td>9810</td>\n",
       "      <td>9568</td>\n",
       "      <td>1762</td>\n",
       "      <td>3293</td>\n",
       "      <td>1776</td>\n",
       "    </tr>\n",
       "    <tr>\n",
       "      <th>2</th>\n",
       "      <td>2</td>\n",
       "      <td>3</td>\n",
       "      <td>6353</td>\n",
       "      <td>8808</td>\n",
       "      <td>7684</td>\n",
       "      <td>2405</td>\n",
       "      <td>3516</td>\n",
       "      <td>7844</td>\n",
       "    </tr>\n",
       "    <tr>\n",
       "      <th>3</th>\n",
       "      <td>1</td>\n",
       "      <td>3</td>\n",
       "      <td>13265</td>\n",
       "      <td>1196</td>\n",
       "      <td>4221</td>\n",
       "      <td>6404</td>\n",
       "      <td>507</td>\n",
       "      <td>1788</td>\n",
       "    </tr>\n",
       "    <tr>\n",
       "      <th>4</th>\n",
       "      <td>2</td>\n",
       "      <td>3</td>\n",
       "      <td>22615</td>\n",
       "      <td>5410</td>\n",
       "      <td>7198</td>\n",
       "      <td>3915</td>\n",
       "      <td>1777</td>\n",
       "      <td>5185</td>\n",
       "    </tr>\n",
       "  </tbody>\n",
       "</table>\n",
       "</div>"
      ],
      "text/plain": [
       "   Channel  Region  Fresh  Milk  Grocery  Frozen  Detergents_Paper  Delicassen\n",
       "0        2       3  12669  9656     7561     214              2674        1338\n",
       "1        2       3   7057  9810     9568    1762              3293        1776\n",
       "2        2       3   6353  8808     7684    2405              3516        7844\n",
       "3        1       3  13265  1196     4221    6404               507        1788\n",
       "4        2       3  22615  5410     7198    3915              1777        5185"
      ]
     },
     "execution_count": 2,
     "metadata": {},
     "output_type": "execute_result"
    }
   ],
   "source": [
    "dataset = pd.read_csv('C:/Users/risha\\Desktop/Wholesale customers data.csv')\n",
    "dataset.shape\n",
    "dataset.head(5)"
   ]
  },
  {
   "cell_type": "code",
   "execution_count": 3,
   "metadata": {},
   "outputs": [
    {
     "name": "stdout",
     "output_type": "stream",
     "text": [
      "<class 'pandas.core.frame.DataFrame'>\n",
      "RangeIndex: 440 entries, 0 to 439\n",
      "Data columns (total 8 columns):\n",
      " #   Column            Non-Null Count  Dtype\n",
      "---  ------            --------------  -----\n",
      " 0   Channel           440 non-null    int64\n",
      " 1   Region            440 non-null    int64\n",
      " 2   Fresh             440 non-null    int64\n",
      " 3   Milk              440 non-null    int64\n",
      " 4   Grocery           440 non-null    int64\n",
      " 5   Frozen            440 non-null    int64\n",
      " 6   Detergents_Paper  440 non-null    int64\n",
      " 7   Delicassen        440 non-null    int64\n",
      "dtypes: int64(8)\n",
      "memory usage: 27.6 KB\n"
     ]
    }
   ],
   "source": [
    "dataset.info()"
   ]
  },
  {
   "cell_type": "code",
   "execution_count": 4,
   "metadata": {},
   "outputs": [
    {
     "name": "stdout",
     "output_type": "stream",
     "text": [
      "<class 'pandas.core.frame.DataFrame'>\n",
      "RangeIndex: 440 entries, 0 to 439\n",
      "Data columns (total 8 columns):\n",
      " #   Column            Non-Null Count  Dtype   \n",
      "---  ------            --------------  -----   \n",
      " 0   Channel           440 non-null    category\n",
      " 1   Region            440 non-null    category\n",
      " 2   Fresh             440 non-null    int64   \n",
      " 3   Milk              440 non-null    int64   \n",
      " 4   Grocery           440 non-null    int64   \n",
      " 5   Frozen            440 non-null    int64   \n",
      " 6   Detergents_Paper  440 non-null    int64   \n",
      " 7   Delicassen        440 non-null    int64   \n",
      "dtypes: category(2), int64(6)\n",
      "memory usage: 21.9 KB\n"
     ]
    }
   ],
   "source": [
    "dataset['Channel'] = dataset['Channel'].astype('category')\n",
    "dataset['Region'] = dataset['Region'].astype('category')\n",
    "dataset.info()"
   ]
  },
  {
   "cell_type": "code",
   "execution_count": 5,
   "metadata": {},
   "outputs": [
    {
     "data": {
      "text/html": [
       "<div>\n",
       "<style scoped>\n",
       "    .dataframe tbody tr th:only-of-type {\n",
       "        vertical-align: middle;\n",
       "    }\n",
       "\n",
       "    .dataframe tbody tr th {\n",
       "        vertical-align: top;\n",
       "    }\n",
       "\n",
       "    .dataframe thead th {\n",
       "        text-align: right;\n",
       "    }\n",
       "</style>\n",
       "<table border=\"1\" class=\"dataframe\">\n",
       "  <thead>\n",
       "    <tr style=\"text-align: right;\">\n",
       "      <th></th>\n",
       "      <th>Channel_1</th>\n",
       "      <th>Channel_2</th>\n",
       "      <th>Region_1</th>\n",
       "      <th>Region_2</th>\n",
       "      <th>Region_3</th>\n",
       "    </tr>\n",
       "  </thead>\n",
       "  <tbody>\n",
       "    <tr>\n",
       "      <th>0</th>\n",
       "      <td>0</td>\n",
       "      <td>1</td>\n",
       "      <td>0</td>\n",
       "      <td>0</td>\n",
       "      <td>1</td>\n",
       "    </tr>\n",
       "    <tr>\n",
       "      <th>1</th>\n",
       "      <td>0</td>\n",
       "      <td>1</td>\n",
       "      <td>0</td>\n",
       "      <td>0</td>\n",
       "      <td>1</td>\n",
       "    </tr>\n",
       "    <tr>\n",
       "      <th>2</th>\n",
       "      <td>0</td>\n",
       "      <td>1</td>\n",
       "      <td>0</td>\n",
       "      <td>0</td>\n",
       "      <td>1</td>\n",
       "    </tr>\n",
       "    <tr>\n",
       "      <th>3</th>\n",
       "      <td>1</td>\n",
       "      <td>0</td>\n",
       "      <td>0</td>\n",
       "      <td>0</td>\n",
       "      <td>1</td>\n",
       "    </tr>\n",
       "    <tr>\n",
       "      <th>4</th>\n",
       "      <td>0</td>\n",
       "      <td>1</td>\n",
       "      <td>0</td>\n",
       "      <td>0</td>\n",
       "      <td>1</td>\n",
       "    </tr>\n",
       "  </tbody>\n",
       "</table>\n",
       "</div>"
      ],
      "text/plain": [
       "   Channel_1  Channel_2  Region_1  Region_2  Region_3\n",
       "0          0          1         0         0         1\n",
       "1          0          1         0         0         1\n",
       "2          0          1         0         0         1\n",
       "3          1          0         0         0         1\n",
       "4          0          1         0         0         1"
      ]
     },
     "execution_count": 5,
     "metadata": {},
     "output_type": "execute_result"
    }
   ],
   "source": [
    "x=dataset\n",
    "num_cols = ['Fresh','Milk','Grocery','Frozen','Detergents_Paper','Delicassen']\n",
    "cat_cols =['Channel','Region']\n",
    "dummies = pd.get_dummies(x[cat_cols])\n",
    "dummies.head(5)"
   ]
  },
  {
   "cell_type": "code",
   "execution_count": 6,
   "metadata": {},
   "outputs": [],
   "source": [
    "# combining dummies variables and numerical variables\n",
    "X1 =x[num_cols]\n",
    "X2 = pd.concat([dummies , X1], axis=1)\n",
    "X=X2\n",
    "\n",
    "Y = dataset['Frozen']"
   ]
  },
  {
   "cell_type": "code",
   "execution_count": 7,
   "metadata": {},
   "outputs": [],
   "source": [
    "#splitting into test and train data\n",
    "from sklearn.model_selection import train_test_split\n",
    "X_train, X_test, Y_train, Y_test = train_test_split(X, Y, test_size = 0.25, random_state =0)\n",
    "X_train.head(5)\n",
    "X_test0 = X_test\n",
    "Y_test0 = Y_test"
   ]
  },
  {
   "cell_type": "code",
   "execution_count": 8,
   "metadata": {},
   "outputs": [
    {
     "name": "stdout",
     "output_type": "stream",
     "text": [
      "varinace found by PCA\n"
     ]
    },
    {
     "data": {
      "text/plain": [
       "[0.5620638011192843,\n",
       " 0.28583496315588597,\n",
       " 0.11271019385101923,\n",
       " 0.03130184922485544,\n",
       " 0.004847882048667635,\n",
       " 0.00324130857130397,\n",
       " 9.833277841571817e-10,\n",
       " 6.668180440060054e-10,\n",
       " 3.788374845108909e-10,\n",
       " 2.2838667745007647e-34,\n",
       " 1.4425590039567893e-35]"
      ]
     },
     "execution_count": 8,
     "metadata": {},
     "output_type": "execute_result"
    }
   ],
   "source": [
    "#PCA to check variance\n",
    "from sklearn.decomposition import PCA\n",
    "pca = PCA(n_components = None)\n",
    "X_train1 = pca.fit_transform(X_train)\n",
    "X_test1 = pca.fit_transform(X_test)\n",
    "explained_variance = pca.explained_variance_ratio_\n",
    "print(\"varinace found by PCA\")\n",
    "list(explained_variance)"
   ]
  },
  {
   "cell_type": "code",
   "execution_count": 9,
   "metadata": {},
   "outputs": [
    {
     "name": "stdout",
     "output_type": "stream",
     "text": [
      "varinace found by PCA\n"
     ]
    },
    {
     "data": {
      "text/plain": [
       "[0.5620638011192843, 0.28583496315588597]"
      ]
     },
     "execution_count": 9,
     "metadata": {},
     "output_type": "execute_result"
    }
   ],
   "source": [
    "#selecting two columns for vairance \n",
    "from sklearn.decomposition import PCA\n",
    "i=2\n",
    "pca = PCA(n_components = i)\n",
    "X_train1 = pca.fit_transform(X_train)\n",
    "X_test1 = pca.fit_transform(X_test)\n",
    "explained_variance = pca.explained_variance_ratio_\n",
    "print(\"varinace found by PCA\")\n",
    "list(explained_variance)"
   ]
  },
  {
   "cell_type": "code",
   "execution_count": 10,
   "metadata": {},
   "outputs": [
    {
     "data": {
      "image/png": "[encoded data removed]",
      "text/plain": [
       "<Figure size 432x288 with 1 Axes>"
      ]
     },
     "metadata": {},
     "output_type": "display_data"
    }
   ],
   "source": [
    "from sklearn.cluster import KMeans\n",
    "wcss =[]\n",
    "for i in range(1,11):\n",
    "    kmeans = KMeans(n_clusters = i,init ='k-means++', random_state=42)\n",
    "    kmeans.fit(X_test)\n",
    "    wcss.append(kmeans.inertia_)\n",
    "\n",
    "plt.plot(range(1,11), wcss)\n",
    "plt.title(\"Elbow Method\")\n",
    "plt.xlabel(\"number of clusters\")\n",
    "plt.ylabel(\"wcss\")\n",
    "plt.show()\n"
   ]
  },
  {
   "cell_type": "code",
   "execution_count": 11,
   "metadata": {},
   "outputs": [],
   "source": [
    "X3 = X_test"
   ]
  },
  {
   "cell_type": "code",
   "execution_count": 12,
   "metadata": {},
   "outputs": [
    {
     "ename": "NameError",
     "evalue": "name 'y_kmeans' is not defined",
     "output_type": "error",
     "traceback": [
      "\u001b[1;31m---------------------------------------------------------------------------\u001b[0m",
      "\u001b[1;31mNameError\u001b[0m                                 Traceback (most recent call last)",
      "\u001b[1;32me:\\Year 2\\SEM2\\MINOR PROJECT\\walmart-recruiting-store-sales-forecasting\\26apr.ipynb Cell 12'\u001b[0m in \u001b[0;36m<module>\u001b[1;34m\u001b[0m\n\u001b[0;32m      <a href='vscode-notebook-cell:/e%3A/Year%202/SEM2/MINOR%20PROJECT/walmart-recruiting-store-sales-forecasting/26apr.ipynb#ch0000011?line=0'>1</a>\u001b[0m \u001b[39m#vizualizing the cluster\u001b[39;00m\n\u001b[1;32m----> <a href='vscode-notebook-cell:/e%3A/Year%202/SEM2/MINOR%20PROJECT/walmart-recruiting-store-sales-forecasting/26apr.ipynb#ch0000011?line=1'>2</a>\u001b[0m plt\u001b[39m.\u001b[39mscatter(X3[y_kmeans\u001b[39m==\u001b[39m\u001b[39m0\u001b[39m,\u001b[39m0\u001b[39m],X3[y_kmeans\u001b[39m==\u001b[39m\u001b[39m0\u001b[39m,\u001b[39m1\u001b[39m], s\u001b[39m=\u001b[39m\u001b[39m100\u001b[39m,c\u001b[39m=\u001b[39m\u001b[39m'\u001b[39m\u001b[39mred\u001b[39m\u001b[39m'\u001b[39m,label\u001b[39m=\u001b[39m\u001b[39m'\u001b[39m\u001b[39msegment 1\u001b[39m\u001b[39m'\u001b[39m)\n\u001b[0;32m      <a href='vscode-notebook-cell:/e%3A/Year%202/SEM2/MINOR%20PROJECT/walmart-recruiting-store-sales-forecasting/26apr.ipynb#ch0000011?line=2'>3</a>\u001b[0m plt\u001b[39m.\u001b[39mscatter(X3[y_kmeans\u001b[39m==\u001b[39m\u001b[39m1\u001b[39m,\u001b[39m0\u001b[39m],X3[y_kmeans\u001b[39m==\u001b[39m\u001b[39m1\u001b[39m,\u001b[39m1\u001b[39m], s\u001b[39m=\u001b[39m\u001b[39m100\u001b[39m,c\u001b[39m=\u001b[39m\u001b[39m'\u001b[39m\u001b[39mblue\u001b[39m\u001b[39m'\u001b[39m,label\u001b[39m=\u001b[39m\u001b[39m'\u001b[39m\u001b[39msegment 2\u001b[39m\u001b[39m'\u001b[39m)\n\u001b[0;32m      <a href='vscode-notebook-cell:/e%3A/Year%202/SEM2/MINOR%20PROJECT/walmart-recruiting-store-sales-forecasting/26apr.ipynb#ch0000011?line=3'>4</a>\u001b[0m plt\u001b[39m.\u001b[39mscatter(X3[y_kmeans\u001b[39m==\u001b[39m\u001b[39m2\u001b[39m,\u001b[39m0\u001b[39m],X3[y_kmeans\u001b[39m==\u001b[39m\u001b[39m2\u001b[39m,\u001b[39m1\u001b[39m], s\u001b[39m=\u001b[39m\u001b[39m100\u001b[39m,c\u001b[39m=\u001b[39m\u001b[39m'\u001b[39m\u001b[39mgreen\u001b[39m\u001b[39m'\u001b[39m,label\u001b[39m=\u001b[39m\u001b[39m'\u001b[39m\u001b[39msegment 3\u001b[39m\u001b[39m'\u001b[39m)\n",
      "\u001b[1;31mNameError\u001b[0m: name 'y_kmeans' is not defined"
     ]
    }
   ],
   "source": [
    "#vizualizing the cluster\n",
    "plt.scatter(X3[y_kmeans==0,0],X3[y_kmeans==0,1], s=100,c='red',label='segment 1')\n",
    "plt.scatter(X3[y_kmeans==1,0],X3[y_kmeans==1,1], s=100,c='blue',label='segment 2')\n",
    "plt.scatter(X3[y_kmeans==2,0],X3[y_kmeans==2,1], s=100,c='green',label='segment 3')\n",
    "plt.scatter(kmeans.cluster_centers_[:,0], kmeans.cluster_centers_[:,1], s=200,c='yellow',label='Centroid')\n",
    "plt.title(\"customer segments\")\n",
    "plt.legend()\n",
    "plt.show()"
   ]
  },
  {
   "cell_type": "code",
   "execution_count": null,
   "metadata": {},
   "outputs": [],
   "source": []
  }
 ],
 "metadata": {
  "interpreter": {
   "hash": "212cf147e9d16c522a17164cab62459d11f5359da6ef604f5ccf2dd93b49ac33"
  },
  "kernelspec": {
   "display_name": "Python 3.8.10 64-bit",
   "language": "python",
   "name": "python3"
  },
  "language_info": {
   "codemirror_mode": {
    "name": "ipython",
    "version": 3
   },
   "file_extension": ".py",
   "mimetype": "text/x-python",
   "name": "python",
   "nbconvert_exporter": "python",
   "pygments_lexer": "ipython3",
   "version": "3.8.10"
  },
  "orig_nbformat": 4
 },
 "nbformat": 4,
 "nbformat_minor": 2
}
